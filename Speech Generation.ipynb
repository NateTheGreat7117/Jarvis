{
 "cells": [
  {
   "cell_type": "code",
   "execution_count": null,
   "id": "c134c5ce",
   "metadata": {},
   "outputs": [],
   "source": [
    "from transformers import AutoProcessor, AutoModel\n",
    "from IPython import display\n",
    "import numpy as np\n",
    "\n",
    "processor = AutoProcessor.from_pretrained(\"suno/bark\")\n",
    "model = AutoModel.from_pretrained(\"suno/bark\")"
   ]
  },
  {
   "cell_type": "code",
   "execution_count": null,
   "id": "8539d07f",
   "metadata": {},
   "outputs": [],
   "source": [
    "inputs = processor(\n",
    "    text=[\"It is 7:30 am and the weather in Boston is 45 degrees with light winds and 0 percent precipitation\"],\n",
    "    voice_preset=\"en_speaker_1\",\n",
    "    return_tensors=\"pt\", \n",
    ")"
   ]
  },
  {
   "cell_type": "code",
   "execution_count": null,
   "id": "f0849b7c",
   "metadata": {},
   "outputs": [],
   "source": [
    "speech_values = model.generate(**inputs, do_sample=True)"
   ]
  },
  {
   "cell_type": "code",
   "execution_count": null,
   "id": "b1ba4a81",
   "metadata": {},
   "outputs": [],
   "source": [
    "speech_values[0]"
   ]
  },
  {
   "cell_type": "code",
   "execution_count": null,
   "id": "3bc4a573",
   "metadata": {
    "scrolled": false
   },
   "outputs": [],
   "source": [
    "display.display(display.Audio(np.transpose(speech_values[0]), rate=22050))"
   ]
  },
  {
   "cell_type": "markdown",
   "id": "c05e9a04",
   "metadata": {},
   "source": [
    "# XTTS"
   ]
  },
  {
   "cell_type": "code",
   "execution_count": null,
   "id": "fc87e905",
   "metadata": {
    "scrolled": false
   },
   "outputs": [],
   "source": [
    "from TTS.api import TTS\n",
    "tts = TTS(\"tts_models/multilingual/multi-dataset/xtts_v2\", gpu=True)"
   ]
  },
  {
   "cell_type": "code",
   "execution_count": null,
   "id": "790725e7",
   "metadata": {},
   "outputs": [],
   "source": [
    "# generate speech by cloning a voice using default settings\n",
    "tts.tts_to_file(text=\"The time is 2:30                                                                            \",\n",
    "                file_path=\"output.wav\",\n",
    "                speaker_wav=\"jarvis_speech_files/killing.wav\",\n",
    "                language=\"en\")"
   ]
  },
  {
   "cell_type": "code",
   "execution_count": null,
   "id": "dbf50283",
   "metadata": {},
   "outputs": [],
   "source": [
    "import torch\n",
    "from TTS.api import TTS\n",
    "\n",
    "# Get device\n",
    "device = \"cuda\" if torch.cuda.is_available() else \"cpu\"\n",
    "\n",
    "# List available 🐸TTS models\n",
    "print(TTS().list_models())\n",
    "\n",
    "# Init TTS\n",
    "tts = TTS(\"tts_models/multilingual/multi-dataset/xtts_v2\").to(device)"
   ]
  },
  {
   "cell_type": "code",
   "execution_count": null,
   "id": "1acec7fb",
   "metadata": {},
   "outputs": [],
   "source": [
    "wav = tts.tts(text=\"As always, a pleasure working with you sir.\", speaker_wav=\"jarvis_speech_files/killing.wav\", language=\"en\", )"
   ]
  },
  {
   "cell_type": "code",
   "execution_count": null,
   "id": "496fca34",
   "metadata": {},
   "outputs": [],
   "source": [
    "tts.tts_to_file(text=\"As always, a pleasure working with you sir.\", \\\n",
    "                speaker_wav=\"jarvis_speech_files/killing.wav\", language=\"en\", file_path=\"output.wav\")"
   ]
  },
  {
   "cell_type": "code",
   "execution_count": null,
   "id": "3b20f7f5",
   "metadata": {},
   "outputs": [],
   "source": [
    "display.display(display.Audio(np.transpose(wav), rate=24000))"
   ]
  },
  {
   "cell_type": "code",
   "execution_count": null,
   "id": "3cb86614",
   "metadata": {},
   "outputs": [],
   "source": [
    "# import required module\n",
    "\n",
    " \n",
    "# for playing note.wav file\n",
    "playsound('output.wav')"
   ]
  }
 ],
 "metadata": {
  "kernelspec": {
   "display_name": "pyTorch",
   "language": "python",
   "name": "pytorch"
  },
  "language_info": {
   "codemirror_mode": {
    "name": "ipython",
    "version": 3
   },
   "file_extension": ".py",
   "mimetype": "text/x-python",
   "name": "python",
   "nbconvert_exporter": "python",
   "pygments_lexer": "ipython3",
   "version": "3.10.12"
  }
 },
 "nbformat": 4,
 "nbformat_minor": 5
}
